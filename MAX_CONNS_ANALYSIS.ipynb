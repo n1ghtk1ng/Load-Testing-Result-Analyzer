{
 "cells": [
  {
   "cell_type": "code",
   "execution_count": null,
   "metadata": {},
   "outputs": [],
   "source": [
    "import matplotlib.pyplot as plt\n",
    "import csv\n",
    "\n",
    "folder_prefix = './'\n",
    "# Request count plot\n",
    "\n",
    "time=[]\n",
    "request_count=[]\n",
    "with open(folder_prefix + 'request_counts_by_second_Operation.csv', 'r') as csvfile:\n",
    "    plots= csv.reader(csvfile, delimiter=',')\n",
    "    #sum1=0\n",
    "    for row in plots:\n",
    "        time.append(int(row[0]))\n",
    "        request_count.append(int(row[1]))\n",
    "        #sum1=sum1+int(row[1])\n",
    "\n",
    "plt.figure(figsize=(30,15))\n",
    "plt.plot(time, request_count, marker='o')\n",
    "plt.xlabel('Time')\n",
    "plt.ylabel('Requests / second')\n",
    "#print(sum1)"
   ]
  },
  {
   "cell_type": "code",
   "execution_count": null,
   "metadata": {},
   "outputs": [],
   "source": [
    "# Operation Latency Plot\n",
    "\n",
    "request_number = []\n",
    "latency_of_request = []\n",
    "\n",
    "with open(folder_prefix + 'Operation_Latency.txt', 'r') as filestream:\n",
    "    i = 1\n",
    "    for line in filestream:\n",
    "        currentline = line.split(\",\")\n",
    "        latency_of_request.append(int(currentline[1]))\n",
    "        request_number.append(i)\n",
    "        i = i + 1    \n",
    "\n",
    "#print(i)\n",
    "plt.figure(figsize=(30,15))\n",
    "plt.plot(request_number,latency_of_request, marker='o')\n",
    "plt.xlabel('Request Order')\n",
    "plt.ylabel('Time')\n"
   ]
  },
  {
   "cell_type": "code",
   "execution_count": null,
   "metadata": {},
   "outputs": [],
   "source": [
    "#Latency (milli seconds) table\n",
    "import pandas as pd\n",
    "\n",
    "operation_Latency = pd.read_csv (folder_prefix +'Operation_Latency.txt')\n",
    "operation_Latency.columns = ['request_number','latency_of_request']\n",
    "\n",
    "mean_latency = operation_Latency['latency_of_request'].mean()\n",
    "p90_latency = operation_Latency['latency_of_request'].quantile(0.9)\n",
    "p95_latency = operation_Latency['latency_of_request'].quantile(0.95)\n",
    "p99_latency = operation_Latency['latency_of_request'].quantile(0.99)\n",
    "p99_9_latency = operation_Latency['latency_of_request'].quantile(0.999)\n",
    "p10_latency = operation_Latency['latency_of_request'].quantile(0.1)\n",
    "p20_latency = operation_Latency['latency_of_request'].quantile(0.2)\n",
    "p50_latency = operation_Latency['latency_of_request'].quantile(0.5)\n",
    "p80_latency = operation_Latency['latency_of_request'].quantile(0.8)\n",
    "\n",
    "latency_data = {'Latency (ms)':[mean_latency, p10_latency, p20_latency, p50_latency, p80_latency, p90_latency, p95_latency, p99_latency, p99_9_latency]}\n",
    "operation_Latency_df = pd.DataFrame(latency_data , index = ['Mean_latency','p10_latency', 'p20_latency', 'p50_latency', 'p80_latency', 'p90_latency', 'p95_latency', 'p99_latency', 'p99.9_latency'])\n"
   ]
  },
  {
   "cell_type": "code",
   "execution_count": null,
   "metadata": {},
   "outputs": [],
   "source": [
    "operation_Latency_df.style"
   ]
  },
  {
   "cell_type": "code",
   "execution_count": null,
   "metadata": {},
   "outputs": [],
   "source": [
    "#Request count per second table\n",
    "\n",
    "req_cnt_df = pd.read_csv (folder_prefix + 'request_counts_by_second_Operation.csv')\n",
    "req_cnt_df.columns = ['Time', 'No_of_Requests']\n",
    "\n",
    "mean_requests = req_cnt_df['No_of_Requests'].mean()\n",
    "p90_requests = req_cnt_df['No_of_Requests'].quantile(0.9)\n",
    "p95_requests = req_cnt_df['No_of_Requests'].quantile(0.95)\n",
    "p99_requests = req_cnt_df['No_of_Requests'].quantile(0.99)\n",
    "p10_requests = req_cnt_df['No_of_Requests'].quantile(0.1)\n",
    "p20_requests = req_cnt_df['No_of_Requests'].quantile(0.2)\n",
    "p50_requests = req_cnt_df['No_of_Requests'].quantile(0.5)\n",
    "p80_requests = req_cnt_df['No_of_Requests'].quantile(0.8)\n",
    "p100_requests = req_cnt_df['No_of_Requests'].quantile(1.0)\n",
    "\n",
    "req_cnt_data = {'Req / second ':[mean_requests, p10_requests, p20_requests, p50_requests, p80_requests, p90_requests, p95_requests, p99_requests, p100_requests]}\n",
    "req_cnt_analysis_df = pd.DataFrame(req_cnt_data , index = ['Mean','p10_requests', 'p20_requests', 'p50_requests', 'p80_requests', 'p90_requests', 'p95_requests', 'p99_requests', 'p100_requests'])\n"
   ]
  },
  {
   "cell_type": "code",
   "execution_count": null,
   "metadata": {},
   "outputs": [],
   "source": [
    "req_cnt_analysis_df.style"
   ]
  },
  {
   "cell_type": "code",
   "execution_count": null,
   "metadata": {},
   "outputs": [],
   "source": [
    "operation_Latency_df.values"
   ]
  },
  {
   "cell_type": "code",
   "execution_count": null,
   "metadata": {},
   "outputs": [],
   "source": [
    "req_cnt_analysis_df.values.T[:,[0,8]]\n"
   ]
  },
  {
   "cell_type": "code",
   "execution_count": null,
   "metadata": {},
   "outputs": [],
   "source": [
    "import numpy as np\n",
    "result = np.dot(operation_Latency_df.values,req_cnt_analysis_df.values.T[:,[0,8]]) "
   ]
  },
  {
   "cell_type": "code",
   "execution_count": null,
   "metadata": {},
   "outputs": [],
   "source": [
    "result = np.divide(result, 1000)"
   ]
  },
  {
   "cell_type": "code",
   "execution_count": null,
   "metadata": {},
   "outputs": [],
   "source": [
    "result"
   ]
  },
  {
   "cell_type": "code",
   "execution_count": null,
   "metadata": {},
   "outputs": [],
   "source": [
    "operation_Latency_df.values"
   ]
  },
  {
   "cell_type": "code",
   "execution_count": null,
   "metadata": {},
   "outputs": [],
   "source": [
    "req_cnt_analysis_df.style"
   ]
  },
  {
   "cell_type": "code",
   "execution_count": null,
   "metadata": {},
   "outputs": [],
   "source": [
    "new_result = np.concatenate((result,operation_Latency_df.values), axis=1)\n",
    "\n",
    "pd.DataFrame(new_result , index = ['Mean latency','p10 latency', 'p20 latency', 'p50 latency', 'p80 latency', 'p90 latency', 'p95 latency', 'p99 latency', 'p99.9 latency'], columns = ['Avg MaxConns', 'Max Maxconns', 'Latency (ms)'])\n"
   ]
  },
  {
   "cell_type": "code",
   "execution_count": null,
   "metadata": {},
   "outputs": [],
   "source": []
  }
 ],
 "metadata": {
  "kernelspec": {
   "display_name": "Python 3",
   "language": "python",
   "name": "python3"
  },
  "language_info": {
   "codemirror_mode": {
    "name": "ipython",
    "version": 3
   },
   "file_extension": ".py",
   "mimetype": "text/x-python",
   "name": "python",
   "nbconvert_exporter": "python",
   "pygments_lexer": "ipython3",
   "version": "3.7.6"
  }
 },
 "nbformat": 4,
 "nbformat_minor": 4
}
